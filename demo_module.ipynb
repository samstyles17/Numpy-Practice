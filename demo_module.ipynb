class DemoModule:
    def funcName1():
        pass

    def funcName2():
        pass

